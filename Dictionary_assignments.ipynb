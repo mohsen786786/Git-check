{
  "cells": [
    {
      "cell_type": "code",
      "execution_count": 1,
      "id": "079d8bfc",
      "metadata": {
        "colab": {
          "base_uri": "https://localhost:8080/"
        },
        "id": "079d8bfc",
        "outputId": "adaa3610-5dcb-4cf6-d0ac-60bbc45f50f7"
      },
      "outputs": [
        {
          "output_type": "stream",
          "name": "stdout",
          "text": [
            "Enter the key: age\n",
            "Key is present\n"
          ]
        }
      ],
      "source": [
        "# Program to Check if a Given Key Exists in a Dictionary or Not\n",
        "\n",
        "myDict = {\n",
        "  \"name\": \"John Smith\",\n",
        "  \"age\": 32,\n",
        "  \"job\": \"Software Developer\"\n",
        "}\n",
        "\n",
        "k=input(\"Enter the key: \")\n",
        "\n",
        "if k in myDict:\n",
        "    print(\"Key is present\")\n",
        "else:\n",
        "    print(\"Key is NOT present\")\n"
      ]
    },
    {
      "cell_type": "code",
      "execution_count": 2,
      "id": "422a8bf1",
      "metadata": {
        "colab": {
          "base_uri": "https://localhost:8080/"
        },
        "id": "422a8bf1",
        "outputId": "98e738c7-45d5-4a29-a075-1a74c49962cd"
      },
      "outputs": [
        {
          "output_type": "stream",
          "name": "stdout",
          "text": [
            "The total amount of groceries are 170\n"
          ]
        }
      ],
      "source": [
        "# Program to Sum All the Items in a Dictionary\n",
        "\n",
        "\n",
        "Grocery_Prices = {\n",
        "  'Milk' : 10,\n",
        "  'Eggs' : 20,\n",
        "  'Bread' : 30,\n",
        "  'Bananas' : 10,\n",
        "  'Apples' : 100\n",
        " }\n",
        "\n",
        "total=0\n",
        "\n",
        "for i in Grocery_Prices:\n",
        "    total=total+Grocery_Prices[i]\n",
        "\n",
        "print(f\"The total amount of groceries are {total}\")"
      ]
    },
    {
      "cell_type": "code",
      "execution_count": 3,
      "id": "cec6a3bd",
      "metadata": {
        "colab": {
          "base_uri": "https://localhost:8080/"
        },
        "id": "cec6a3bd",
        "outputId": "a9e1ddba-b3cd-4c85-8de5-1dd6b0e39476"
      },
      "outputs": [
        {
          "output_type": "stream",
          "name": "stdout",
          "text": [
            "{'Milk': 10, 'Eggs': 20, 'Bread': 30, 'Bananas': 10, 'Apples': 100}\n",
            "\n",
            "Enter the key to remove from above list: Bread\n",
            "\n",
            " {'Milk': 10, 'Eggs': 20, 'Bananas': 10, 'Apples': 100}\n"
          ]
        }
      ],
      "source": [
        "# Program to Remove the Given Key from a Dictionary\n",
        "\n",
        "Grocery_Prices = {\n",
        "  'Milk' : 10,\n",
        "  'Eggs' : 20,\n",
        "  'Bread' : 30,\n",
        "  'Bananas' : 10,\n",
        "  'Apples' : 100\n",
        " }\n",
        "\n",
        "print(Grocery_Prices)\n",
        "\n",
        "k=input(\"\\nEnter the key to remove from above list: \")\n",
        "\n",
        "Grocery_Prices.pop(k)\n",
        "\n",
        "print(\"\\n\",Grocery_Prices)\n",
        "\n",
        "\n"
      ]
    },
    {
      "cell_type": "code",
      "execution_count": 4,
      "id": "57198805",
      "metadata": {
        "colab": {
          "base_uri": "https://localhost:8080/"
        },
        "id": "57198805",
        "outputId": "ab405f54-d2c0-42a4-e46c-00cdcad6e6ca"
      },
      "outputs": [
        {
          "output_type": "stream",
          "name": "stdout",
          "text": [
            "Name: John Doe\n",
            "Age: 23\n",
            "Gender: Male\n",
            "Nationality: American\n",
            "Profession: Software Engineer\n",
            "Marrital status: Single\n",
            "Children: 0\n"
          ]
        }
      ],
      "source": [
        "# Write a Python program to iterate over dictionaries using for loops\n",
        "\n",
        "my_dict1 = {\n",
        "    \"Name\": \"John Doe\",\n",
        "    \"Age\": 23,\n",
        "    \"Gender\": \"Male\",\n",
        "    \"Nationality\": \"American\",\n",
        "    \"Profession\": \"Software Engineer\",\n",
        "    \"Marrital status\": \"Single\",\n",
        "    \"Children\": 0\n",
        "}\n",
        "\n",
        "for i in my_dict1:\n",
        "    print(f\"{i}: {my_dict1[i]}\")"
      ]
    },
    {
      "cell_type": "code",
      "execution_count": 5,
      "id": "3055ae4c",
      "metadata": {
        "colab": {
          "base_uri": "https://localhost:8080/"
        },
        "id": "3055ae4c",
        "outputId": "0bafa2c5-d011-4604-9534-e415516119b6"
      },
      "outputs": [
        {
          "output_type": "stream",
          "name": "stdout",
          "text": [
            " Sorted based on key = [('Abinaya', 15), ('Bavitha', 9), ('Nitesh', 32), ('Ravi', 10), ('Yash', 2)]\n",
            " Sorted based on value = [('Yash', 2), ('Bavitha', 9), ('Ravi', 10), ('Abinaya', 15), ('Nitesh', 32)]\n"
          ]
        }
      ],
      "source": [
        "# Write a Python program to sort a dictionary by key\n",
        "\n",
        "d = {'Ravi':10,'Bavitha':9,'Abinaya':15,'Yash':2,'Nitesh':32}\n",
        "\n",
        "\n",
        "sorted_key = sorted(d.items(), key=lambda x: x[0])\n",
        "\n",
        "sorted_value = sorted(d.items(), key=lambda x: x[1])\n",
        "\n",
        "print(f\" Sorted based on key = {sorted_key}\")\n",
        "\n",
        "print(f\" Sorted based on value = {sorted_value}\")"
      ]
    }
  ],
  "metadata": {
    "kernelspec": {
      "display_name": "Python 3 (ipykernel)",
      "language": "python",
      "name": "python3"
    },
    "language_info": {
      "codemirror_mode": {
        "name": "ipython",
        "version": 3
      },
      "file_extension": ".py",
      "mimetype": "text/x-python",
      "name": "python",
      "nbconvert_exporter": "python",
      "pygments_lexer": "ipython3",
      "version": "3.9.13"
    },
    "colab": {
      "provenance": []
    }
  },
  "nbformat": 4,
  "nbformat_minor": 5
}