{
 "cells": [
  {
   "cell_type": "markdown",
   "metadata": {},
   "source": [
    "# file handling questions"
   ]
  },
  {
   "cell_type": "code",
   "execution_count": null,
   "metadata": {},
   "outputs": [],
   "source": [
    "myData = \"\"\"\n",
    "This is the File Handling data.\n",
    "There is a lot of stuff in @@Python : \n",
    "string\n",
    "list\n",
    "tuple SUN\n",
    "dictionary\n",
    "regular expression\n",
    "functions\n",
    "\n",
    "To learn further, you have to cover @the best topics -- \n",
    "string\n",
    "@list\n",
    "functions SUN\n",
    "\n",
    "You can reach it to Academy;\n",
    "8745742105\n",
    "96457421 SUN\n",
    "9656452580 \n",
    "011-25499746\n",
    "7744120258 and 9874745745\n",
    "\n",
    "nitsih@gmail.com SUN\n",
    "company@hotmail.com\n",
    "\n",
    "abc@yahoo.com and learning@@hive.com\n",
    "\n",
    "\"\"\"\n",
    "\n",
    "f = open('myData.txt', \"w\")\n",
    "f.write(myData)\n",
    "f.close()"
   ]
  },
  {
   "cell_type": "code",
   "execution_count": null,
   "metadata": {},
   "outputs": [],
   "source": [
    "# Count how many times \"SUN\" has occured.\n",
    "\n",
    "f = open('myData.txt', \"r\")\n",
    "D=f.read()\n",
    "l=D.split()\n",
    "count=0\n",
    "\n",
    "for i in l:\n",
    "    if i=='SUN':\n",
    "        count+=1\n",
    "print(f\"The count of SUN is:{count}\")\n",
    "f.close()\n",
    "\n",
    "    \n",
    "\n"
   ]
  },
  {
   "cell_type": "code",
   "execution_count": 3,
   "metadata": {},
   "outputs": [
    {
     "name": "stdout",
     "output_type": "stream",
     "text": [
      "The word SUN occured in below lines:\n",
      "6\n",
      "14\n",
      "18\n",
      "23\n"
     ]
    }
   ],
   "source": [
    "# Find the line position number where \"SUN\" has occured.\n",
    "f = open('myData.txt', \"r\")\n",
    "\n",
    "count=1\n",
    "\n",
    "lines=f.readlines()\n",
    "print(\"The word SUN occured in below lines:\")\n",
    "\n",
    "for line in lines:\n",
    "    if 'SUN' in line:\n",
    "        print(count)\n",
    "    count+=1    \n",
    "    \n",
    "f.close()"
   ]
  },
  {
   "cell_type": "code",
   "execution_count": 7,
   "metadata": {},
   "outputs": [
    {
     "name": "stdout",
     "output_type": "stream",
     "text": [
      "['8745742105', '9656452580', '7744120258', '9874745745']\n"
     ]
    }
   ],
   "source": [
    "# Find out the valid mobile numbers, which are 10-digit long\n",
    "\n",
    "import re\n",
    "\n",
    "f = open('myData.txt', \"r\")\n",
    "\n",
    "data=f.read()\n",
    "\n",
    "mob_no=re.findall(r\"\\b\\d{10}\\b\",data)\n",
    "\n",
    "print(mob_no)\n",
    "\n",
    "f.close()"
   ]
  },
  {
   "cell_type": "code",
   "execution_count": 8,
   "metadata": {},
   "outputs": [
    {
     "name": "stdout",
     "output_type": "stream",
     "text": [
      "['nitsih@gmail.com', 'company@hotmail.com', 'abc@yahoo.com']\n"
     ]
    }
   ],
   "source": [
    "# Find out the valid EMAIL Address numbers.\n",
    "import re\n",
    "\n",
    "f = open('myData.txt', \"r\")\n",
    "\n",
    "data=f.read()\n",
    "\n",
    "email=re.findall(r\"\\b\\w{1,}@\\w{1,}\\W\\w{1,}\\b\",data)\n",
    "\n",
    "print(email)\n",
    "\n",
    "f.close()"
   ]
  },
  {
   "cell_type": "code",
   "execution_count": 11,
   "metadata": {},
   "outputs": [
    {
     "name": "stdout",
     "output_type": "stream",
     "text": [
      "['gmail', 'hotmail', 'yahoo']\n"
     ]
    }
   ],
   "source": [
    "# Find out the valid EMAIL platforms\n",
    "import re\n",
    "\n",
    "f = open('myData.txt', \"r\")\n",
    "\n",
    "data=f.read()\n",
    "\n",
    "email_plat=re.findall(r\"\\b\\w{1,}@\\w{1,}\\W\\w{1,}\\b\",data)\n",
    "\n",
    "x=[]\n",
    "\n",
    "for i in email_plat:\n",
    "    l1=i.split('@')\n",
    "    l2=l1[1].split('.')\n",
    "    x.append(l2[0])\n",
    "\n",
    "print(x)\n",
    "\n",
    "f.close()\n"
   ]
  }
 ],
 "metadata": {
  "kernelspec": {
   "display_name": "Python 3 (ipykernel)",
   "language": "python",
   "name": "python3"
  },
  "language_info": {
   "codemirror_mode": {
    "name": "ipython",
    "version": 3
   },
   "file_extension": ".py",
   "mimetype": "text/x-python",
   "name": "python",
   "nbconvert_exporter": "python",
   "pygments_lexer": "ipython3",
   "version": "3.9.13"
  }
 },
 "nbformat": 4,
 "nbformat_minor": 4
}
