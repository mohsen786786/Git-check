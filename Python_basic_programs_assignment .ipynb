{
  "nbformat": 4,
  "nbformat_minor": 0,
  "metadata": {
    "colab": {
      "provenance": []
    },
    "kernelspec": {
      "name": "python3",
      "display_name": "Python 3"
    },
    "language_info": {
      "name": "python"
    }
  },
  "cells": [
    {
      "cell_type": "code",
      "execution_count": null,
      "metadata": {
        "id": "plXR1bjmk4Mj"
      },
      "outputs": [],
      "source": [
        "#Python Basics Program:"
      ]
    },
    {
      "cell_type": "code",
      "source": [
        "#Print Hello world! \n",
        "\n",
        "print(\"Hello world!\")"
      ],
      "metadata": {
        "colab": {
          "base_uri": "https://localhost:8080/"
        },
        "id": "IFNn4X78lL8b",
        "outputId": "fd212722-4a47-450d-8fa2-f077fc57a2b3"
      },
      "execution_count": 1,
      "outputs": [
        {
          "output_type": "stream",
          "name": "stdout",
          "text": [
            "Hello world!\n"
          ]
        }
      ]
    },
    {
      "cell_type": "code",
      "source": [
        "#Declare the following variables: Int, Float, Boolean, String & print its value\n",
        "\n",
        "a=5\n",
        "b=3.5\n",
        "c=True\n",
        "d=\"Learnbay\"\n",
        "print(f\"{a} is integer\")\n",
        "print(f\"{b} is Float\")\n",
        "print(f\"{c} is Boolean\")\n",
        "print(f\"{d} is String\")\n"
      ],
      "metadata": {
        "colab": {
          "base_uri": "https://localhost:8080/"
        },
        "id": "JWF1i8qulYqW",
        "outputId": "73d70ab5-8b8d-4365-c12e-fa3df9eee8fa"
      },
      "execution_count": 4,
      "outputs": [
        {
          "output_type": "stream",
          "name": "stdout",
          "text": [
            "5 is integer\n",
            "3.5 is Float\n",
            "True is Boolean\n",
            "Learnbay is String\n"
          ]
        }
      ]
    },
    {
      "cell_type": "code",
      "source": [
        "#Program to calculate the Area Of Triangle\n",
        "\n",
        "b=int(input(\"Enter the Base of Triangle: \"))\n",
        "h=int(input(\"Enter the Height of Triangle: \"))\n",
        "\n",
        "area=(b*h)/2\n",
        "\n",
        "print(f\"The Area Of Triangle is {area}\")"
      ],
      "metadata": {
        "colab": {
          "base_uri": "https://localhost:8080/"
        },
        "id": "ZcFrZ__FmZ24",
        "outputId": "d084ff4d-9674-4f64-8023-3dd6c110d15a"
      },
      "execution_count": 9,
      "outputs": [
        {
          "output_type": "stream",
          "name": "stdout",
          "text": [
            "Enter the Base of Triangle: 10\n",
            "Enter the Height of Triangle: 20\n",
            "The Area Of Triangle is 100.0\n"
          ]
        }
      ]
    },
    {
      "cell_type": "code",
      "source": [
        "#Program to swap two variables\n",
        "a=input(\"Enter a value for first variable: \")\n",
        "b=input(\"Enter a value for second variable: \")\n",
        "\n",
        "print(f\"Value of first variable before swap = {a}\")\n",
        "print(f\"Value of second variable before swap = {b}\")\n",
        "\n",
        "c=a\n",
        "a=b\n",
        "b=c\n",
        "\n",
        "print(f\"Value of first variable after swap = {a}\")\n",
        "print(f\"Value of second variable after swap = {b}\")"
      ],
      "metadata": {
        "colab": {
          "base_uri": "https://localhost:8080/"
        },
        "id": "_dX_OTi6n_Fi",
        "outputId": "986fad8f-947b-4929-ef2a-a52534001004"
      },
      "execution_count": 10,
      "outputs": [
        {
          "output_type": "stream",
          "name": "stdout",
          "text": [
            "Enter a value for first variable: 10\n",
            "Enter a value for second variable: 20\n",
            "Value of first variable before swap = 10\n",
            "Value of second variable before swap = 20\n",
            "Value of first variable after swap = 20\n",
            "Value of second variable after swap = 10\n"
          ]
        }
      ]
    },
    {
      "cell_type": "code",
      "source": [
        "# Program is to check if a number is positive, negative or 0 (Using If…elif…else)\n",
        "\n",
        "a=input(\"Enter a number: \")\n",
        "\n",
        "if a.lstrip(\"+-\").isdigit():\n",
        "  if int(a)>0:\n",
        "    print(\"The entered number is positive\")\n",
        "  elif int(a)<0:\n",
        "    print(\"The entered number is negative\")\n",
        "  else:\n",
        "    print(\"The entered number is zero\")\n",
        "elif a.lstrip(\"+-\").replace(\".\",\"\").isdigit():\n",
        "  if float(a)>0:\n",
        "    print(\"The entered number is positive\")\n",
        "  elif float(a)<0:\n",
        "    print(\"The entered number is negative\")\n",
        "  else:\n",
        "    print(\"The entered number is zero\")\n",
        "else:\n",
        "  print(\"The entered value is not a number\")"
      ],
      "metadata": {
        "colab": {
          "base_uri": "https://localhost:8080/"
        },
        "id": "LX2zpEUzo87a",
        "outputId": "3ad5b8ff-cc99-46dc-ead5-e5ea925707c7"
      },
      "execution_count": 58,
      "outputs": [
        {
          "output_type": "stream",
          "name": "stdout",
          "text": [
            "Enter a number: 1.55\n",
            "The entered number is positive\n"
          ]
        }
      ]
    },
    {
      "cell_type": "code",
      "source": [
        "# Program is to check if a number is Even or Odd\n",
        "\n",
        "a=input(\"Enter a number: \")\n",
        "\n",
        "if a.lstrip(\"+-\").isdigit():\n",
        "  if (int(a)%2)==0:\n",
        "    print(\"The entered number is Even\")\n",
        "  elif int(a)%2!=0:\n",
        "    print(\"The entered number is Odd\")\n",
        "  else:\n",
        "    print(\"The entered number is zero and it is neither odd nor even\")\n",
        "elif a.lstrip(\"+-\").replace(\".\",\"\").isdigit():\n",
        "    print(\"The entered number is not an integer\")\n",
        "else:\n",
        "  print(\"The entered value is not a number\")\n"
      ],
      "metadata": {
        "colab": {
          "base_uri": "https://localhost:8080/"
        },
        "id": "yPg8U9gpuNg1",
        "outputId": "b3149ae9-23b9-4298-bd46-b26190c89499"
      },
      "execution_count": 77,
      "outputs": [
        {
          "output_type": "stream",
          "name": "stdout",
          "text": [
            "Enter a number: 2.5\n",
            "The entered number is not an integer\n"
          ]
        }
      ]
    },
    {
      "cell_type": "code",
      "source": [
        "# Program is to check if a number is Even or Odd\n",
        "\n",
        "a=input(\"Enter the start value : \")\n",
        "b=input(\"Enter the end value : \")\n",
        "\n",
        "if a.lstrip(\"+-\").isdigit() and b.lstrip(\"+-\").isdigit():\n",
        "  if int(a)<int(b) and int(a)>=0 and ((int(b)-int(a))>1):\n",
        "    for i in range(int(a),int(b)):\n",
        "      if int(i)%2!=0:\n",
        "        print(i)\n",
        "  elif int(b)>int(a) and int(b)<=0 and ((int(b)+int(a))<-3):\n",
        "    for i in range(int(a),int(b)):\n",
        "      if int(i)%2!=0:\n",
        "        print(i)\n",
        "  elif int(a)==int(b):\n",
        "    print(\"Start and end values are same\")\n",
        "  elif (int(b)-int(a))>1 and int(a)>=0 and int(b)>=0:\n",
        "    print(\"Entered start and end value is too short\")\n",
        "  elif (int(b)+int(a))<-3 and int(a)<=0 and int(b)<=0:\n",
        "    print(\"Entered start and end value is too short or start value is greater than end value\")\n",
        "  else:\n",
        "    print(\"Please enter a proper start and end value\")\n",
        "elif a.lstrip(\"+-\").replace(\".\",\"\").isdigit() and b.lstrip(\"+-\").replace(\".\",\"\").isdigit():\n",
        "    print(\"The entered number is not an integer\")\n",
        "else:\n",
        "  print(\"The entered value is not a number\")\n"
      ],
      "metadata": {
        "colab": {
          "base_uri": "https://localhost:8080/"
        },
        "id": "c-YcoOBswZ_e",
        "outputId": "d5e69444-d6fe-40e9-8f09-c23d81b98fac"
      },
      "execution_count": 120,
      "outputs": [
        {
          "output_type": "stream",
          "name": "stdout",
          "text": [
            "Enter the start value : -25\n",
            "Enter the end value : -10\n",
            "-25\n",
            "-23\n",
            "-21\n",
            "-19\n",
            "-17\n",
            "-15\n",
            "-13\n",
            "-11\n"
          ]
        }
      ]
    },
    {
      "cell_type": "code",
      "source": [
        "# Python program to find the factorial of a number\n",
        "\n",
        "a=input(\"Enter a number to find its factorial: \")\n",
        "\n",
        "fact=int(a)\n",
        "\n",
        "for i in range(fact-1,1,-1):\n",
        "  fact=fact*i\n",
        "if fact==0:\n",
        "  fact=1\n",
        "print(f\"{fact} is the factorial of {a}\")"
      ],
      "metadata": {
        "colab": {
          "base_uri": "https://localhost:8080/"
        },
        "id": "4q-KhX-v6RMw",
        "outputId": "a319eb93-66f9-4ef1-9d1e-c03f8c28ff11"
      },
      "execution_count": 134,
      "outputs": [
        {
          "output_type": "stream",
          "name": "stdout",
          "text": [
            "Enter a number to find its factorial: 10\n",
            "3628800 is the factorial of 10\n"
          ]
        }
      ]
    },
    {
      "cell_type": "code",
      "source": [
        "# Program to reverse a given number\n",
        "\n",
        "a=input(\"Enter a number to reverse: \")\n",
        "\n",
        "print(f\"The reversed number is {a[::-1]}\")"
      ],
      "metadata": {
        "colab": {
          "base_uri": "https://localhost:8080/"
        },
        "id": "yCzJbNdw8Jr8",
        "outputId": "731fec7d-5edf-4f34-a5fc-5f4a56a91809"
      },
      "execution_count": 147,
      "outputs": [
        {
          "output_type": "stream",
          "name": "stdout",
          "text": [
            "Enter a number to reverse: 1000\n",
            "The reversed number is 0001\n"
          ]
        }
      ]
    },
    {
      "cell_type": "code",
      "source": [
        "# Program to find out the sum of Natural numbers\n",
        "\n",
        "a=input(\"Enter a number to find out the sum of Natural numbers in its range: \")\n",
        "\n",
        "sum=0\n",
        "\n",
        "for i in range(int(a)+1):\n",
        "  sum=sum+i\n",
        "\n",
        "print(f\"The Sum of the first {a} number is: {sum}\")"
      ],
      "metadata": {
        "colab": {
          "base_uri": "https://localhost:8080/"
        },
        "id": "KumMZSyM9VsF",
        "outputId": "44ad704a-03d5-420b-ee1d-3c4241e8d1d4"
      },
      "execution_count": 153,
      "outputs": [
        {
          "output_type": "stream",
          "name": "stdout",
          "text": [
            "Enter a number to find out the sum of Natural numbers in its range: 25\n",
            "The Sum of the first 25 number is: 325\n"
          ]
        }
      ]
    },
    {
      "cell_type": "code",
      "source": [
        "# Strings:"
      ],
      "metadata": {
        "id": "gOpkhY_s-wvJ"
      },
      "execution_count": null,
      "outputs": []
    },
    {
      "cell_type": "code",
      "source": [
        "# Program to reverse a string without using recursion\n",
        "\n",
        "a=input(\"Enter a string to reverse: \")\n",
        "\n",
        "print(f\"The reversed number is {a[::-1]}\")"
      ],
      "metadata": {
        "colab": {
          "base_uri": "https://localhost:8080/"
        },
        "id": "4o8TbpPj-yjQ",
        "outputId": "b4b6d4b1-2acc-45e8-c18a-ebc01c2038fc"
      },
      "execution_count": 154,
      "outputs": [
        {
          "output_type": "stream",
          "name": "stdout",
          "text": [
            "Enter a strinng to reverse: Mohamed\n",
            "The reversed number is demahoM\n"
          ]
        }
      ]
    },
    {
      "cell_type": "code",
      "source": [
        "# Program to check if string is palindrome or not\n",
        "\n",
        "a=input(\"Enter a string to check palindrome: \")\n",
        "\n",
        "if a.strip().lower()==a[::-1].strip().lower():\n",
        "  print(f\"Entered string is a palindrome\")\n",
        "else:\n",
        "  print(f\"Entered string is not a palindrome\")"
      ],
      "metadata": {
        "colab": {
          "base_uri": "https://localhost:8080/"
        },
        "id": "CuNUjfoW-_bb",
        "outputId": "02ca4557-e435-407f-feda-967f5ee8af44"
      },
      "execution_count": 163,
      "outputs": [
        {
          "output_type": "stream",
          "name": "stdout",
          "text": [
            "Enter a string to check palindrome:               mOoM\n",
            "Entered string is a palindrome\n"
          ]
        }
      ]
    },
    {
      "cell_type": "code",
      "source": [
        "# Python Program to Replace all Occurrences of ‘a’ with $ in a String\n",
        "\n",
        "a=input(\"Enter a string to Replace all Occurrences of ‘a’ with $: \")\n",
        "\n",
        "print(a.replace(\"a\",\"$\"))"
      ],
      "metadata": {
        "colab": {
          "base_uri": "https://localhost:8080/"
        },
        "id": "5ATg9rFxDI5L",
        "outputId": "5614bad4-b542-4595-bec6-216dc8c2943b"
      },
      "execution_count": 165,
      "outputs": [
        {
          "output_type": "stream",
          "name": "stdout",
          "text": [
            "Enter a string to Replace all Occurrences of ‘a’ with $: mohamed mohsen\n",
            "moh$med mohsen\n"
          ]
        }
      ]
    },
    {
      "cell_type": "code",
      "source": [
        "# Python Program to Count the Number of Vowels in a String\n",
        "\n",
        "a=input(\"Enter a string to Count the Number of Vowels in it: \")\n",
        "\n",
        "print(f\"Number of Vowels in entered String is {a.lower().count('a')+a.lower().count('e')+a.lower().count('i')+a.lower().count('o')+a.lower().count('u')}\")"
      ],
      "metadata": {
        "colab": {
          "base_uri": "https://localhost:8080/"
        },
        "id": "-5W1AQWTDxHu",
        "outputId": "b9165b2e-22b7-41e6-9187-8dd67a3ebf0d"
      },
      "execution_count": 169,
      "outputs": [
        {
          "output_type": "stream",
          "name": "stdout",
          "text": [
            "Enter a string to Count the Number of Vowels in it: MOHAMED MOHSEN\n",
            "Number of Vowels in entered String is 5\n"
          ]
        }
      ]
    },
    {
      "cell_type": "code",
      "source": [
        "# Input Two Strings and Display the Larger String without Using Built-in Functions\n",
        "\n",
        "a=input(\"Enter a FIRST string: \")\n",
        "b=input(\"Enter a SECOND string: \")\n",
        "\n",
        "count1=0\n",
        "count2=0\n",
        "\n",
        "for i in a:\n",
        "      count1=count1+1\n",
        "for j in b:\n",
        "      count2=count2+1\n",
        "\n",
        "if count1>count2:\n",
        "  print(f\"FIRST string is larger than SECOND\")\n",
        "elif count1<count2:\n",
        "  print(f\"SECOND string is larger than FIRST\")\n",
        "else:\n",
        "  print(f\"Both the strings are of same length\")\n"
      ],
      "metadata": {
        "colab": {
          "base_uri": "https://localhost:8080/"
        },
        "id": "WBnPYCM2FLtR",
        "outputId": "634c6a47-cfe8-4af1-c3c1-0d0ce1756eba"
      },
      "execution_count": 193,
      "outputs": [
        {
          "output_type": "stream",
          "name": "stdout",
          "text": [
            "Enter a FIRST string: Mohsen\n",
            "Enter a SECOND string: Mohsen\n",
            "Both the strings are of same length\n"
          ]
        }
      ]
    },
    {
      "cell_type": "code",
      "source": [
        "# Count the number of digits & letter in a string\n",
        "\n",
        "a=input(\"Enter a string to Count the number of digits & letter in it: \")\n",
        "\n",
        "count_dig=0\n",
        "count_let=0\n",
        "\n",
        "for i in range(len(a)):\n",
        "  if a[i].isdigit():\n",
        "    count_dig=count_dig+1\n",
        "  elif a[i].isalpha():\n",
        "    count_let=count_let+1\n",
        "\n",
        "print(f\"Count of digits is {count_dig}\")\n",
        "print(f\"Count of letters is {count_let}\")"
      ],
      "metadata": {
        "colab": {
          "base_uri": "https://localhost:8080/"
        },
        "id": "WM-L3OIFMNXz",
        "outputId": "64690e5d-754a-432c-b7e2-60d3379c49a1"
      },
      "execution_count": 198,
      "outputs": [
        {
          "output_type": "stream",
          "name": "stdout",
          "text": [
            "Enter a string to Count the number of digits & letter in it: Mohamed41568746@%$\n",
            "Count of digits is 8\n",
            "Count of letters is 7\n"
          ]
        }
      ]
    },
    {
      "cell_type": "code",
      "source": [
        "# Count Number of Lowercase Characters in a String\n",
        "\n",
        "a=input(\"Enter a string to Count the number of Lowercase Characters in it: \")\n",
        "\n",
        "count=0\n",
        "\n",
        "for i in range(len(a)):\n",
        "  if a[i].islower():\n",
        "    count=count+1\n",
        "\n",
        "print(f\"Count of Lowercase Characters is {count}\")\n"
      ],
      "metadata": {
        "colab": {
          "base_uri": "https://localhost:8080/"
        },
        "id": "nPWCm10VOQot",
        "outputId": "90817c76-3ca6-4735-eae3-0dacbe4949b7"
      },
      "execution_count": 199,
      "outputs": [
        {
          "output_type": "stream",
          "name": "stdout",
          "text": [
            "Enter a string to Count the number of Lowercase Characters in it: Mohamed41568746@%\n",
            "Count of Lowercase Characters is 6\n"
          ]
        }
      ]
    },
    {
      "cell_type": "code",
      "source": [
        "# Program to check if a Substring is Present in a Given String\n",
        "\n",
        "a=input(\"Enter a string: \")\n",
        "b=input(\"Enter a substring to find in above enetered string: \")\n",
        "\n",
        "if a.lower().find(b.lower().strip()) != -1:\n",
        "  print(f\"Entered Substring is present in Given String\")\n",
        "else:\n",
        "  print(f\"Entered Substring is NOT present in Given String\")"
      ],
      "metadata": {
        "colab": {
          "base_uri": "https://localhost:8080/"
        },
        "id": "NQv6OYrUOxIv",
        "outputId": "9eb4e381-130c-44b4-fc44-3bf69b07ee3a"
      },
      "execution_count": 208,
      "outputs": [
        {
          "output_type": "stream",
          "name": "stdout",
          "text": [
            "Enter a string: Mohamed41568746@%\n",
            "Enter a substring to find in above enetered string: OHAME\n",
            "Entered Substring is present in Given String\n"
          ]
        }
      ]
    },
    {
      "cell_type": "code",
      "source": [
        "# Lists & Tuples:"
      ],
      "metadata": {
        "id": "M5vTp225RP1J"
      },
      "execution_count": null,
      "outputs": []
    },
    {
      "cell_type": "code",
      "source": [
        "# Program to Find the Largest Number in a List\n",
        "\n",
        "a=[45,45,56,34,96787,345,12,5667878,1,5,63,21]\n",
        "\n",
        "a.sort()\n",
        "\n",
        "print(f\"Largest number in the list is {a[-1]}\")"
      ],
      "metadata": {
        "colab": {
          "base_uri": "https://localhost:8080/"
        },
        "id": "ufNEVDzkRScs",
        "outputId": "e5266361-ba6e-4661-8ed7-beda8095f9c7"
      },
      "execution_count": 210,
      "outputs": [
        {
          "output_type": "stream",
          "name": "stdout",
          "text": [
            "Largest number in the list is 5667878\n"
          ]
        }
      ]
    },
    {
      "cell_type": "code",
      "source": [
        "# Program to Put Even and Odd elements in a List into Two Different Lists\n",
        "x=[5,62,2,77,27,56,24,48,73,23,6,51]\n",
        "\n",
        "even=[]\n",
        "odd=[]\n",
        "\n",
        "for i in x:\n",
        "  if i%2==0:\n",
        "    even.append(i)\n",
        "  elif i%2!=0:\n",
        "    odd.append(i)\n",
        "\n",
        "even.sort()\n",
        "odd.sort()\n",
        "\n",
        "print(even)\n",
        "print(odd)"
      ],
      "metadata": {
        "colab": {
          "base_uri": "https://localhost:8080/"
        },
        "id": "PGO5Kyp-R9Wz",
        "outputId": "89cc1c41-9af9-4794-bb3a-fda461c13994"
      },
      "execution_count": 217,
      "outputs": [
        {
          "output_type": "stream",
          "name": "stdout",
          "text": [
            "[2, 6, 24, 48, 56, 62]\n",
            "[5, 23, 27, 51, 73, 77]\n"
          ]
        }
      ]
    },
    {
      "cell_type": "code",
      "source": [
        "# Program to Read a List of Words and Return the Length of the Longest One:\n",
        "\n",
        "# words=[\"ability\",\"account\",\"address\",\"after\",\"ago\",\"I\",\"to\"]\n",
        "\n",
        "words=[\"ability\",\"after\",\"ago\",\"I\",\"to\"]\n",
        "\n",
        "large=words[-1]\n",
        "equal=\"\"\n",
        "\n",
        "for i in range(len(words)):\n",
        "  if len(words[i])>len(large) and len(words[i])!=len(large):\n",
        "    large=words[i]\n",
        "  elif len(words[i])==len(large):\n",
        "    equal=equal+\" \"+words[i]\n",
        "\n",
        "if equal==\"\":\n",
        "  print(f\"{large} is the Longest words in above list\")\n",
        "else:\n",
        "  print(f\"{large} {equal} are the Longest words in above list\")\n",
        "\n"
      ],
      "metadata": {
        "colab": {
          "base_uri": "https://localhost:8080/"
        },
        "id": "7Gn4rEMMTPpe",
        "outputId": "4fade188-6569-4956-f180-df8cd33866f3"
      },
      "execution_count": 222,
      "outputs": [
        {
          "output_type": "stream",
          "name": "stdout",
          "text": [
            "ability is the Longest words in above list\n"
          ]
        }
      ]
    },
    {
      "cell_type": "code",
      "source": [
        "# Create a List of Tuples with the First Element as the Number and Second Element as the Square of the Number\n",
        "\n",
        "a=int(input(\"Enter the start value : \"))\n",
        "b=int(input(\"Enter the end value : \"))\n",
        "\n",
        "a=[(i,i*i) for i in range(a,b+1)]\n",
        "\n",
        "print(a)\n"
      ],
      "metadata": {
        "colab": {
          "base_uri": "https://localhost:8080/"
        },
        "id": "bWuGlCd7WaWG",
        "outputId": "b6594f4e-1801-4cb6-d351-29724f9afca8"
      },
      "execution_count": 223,
      "outputs": [
        {
          "output_type": "stream",
          "name": "stdout",
          "text": [
            "Enter the start value : 2\n",
            "Enter the end value : 10\n",
            "[(2, 4), (3, 9), (4, 16), (5, 25), (6, 36), (7, 49), (8, 64), (9, 81), (10, 100)]\n"
          ]
        }
      ]
    },
    {
      "cell_type": "code",
      "source": [
        "# Program to Remove the Duplicate Items from a List\n",
        "\n",
        "a=[1,2,2,3,1,4,5,1,2,6]\n",
        "b=[]\n",
        "\n",
        "for i in a:\n",
        "  if i not in b:\n",
        "    b.append(i)\n",
        "\n",
        "b.sort()\n",
        "\n",
        "print(b)"
      ],
      "metadata": {
        "colab": {
          "base_uri": "https://localhost:8080/"
        },
        "id": "gzJPOJBTXQD8",
        "outputId": "3fa1f1f1-6891-48c7-e49b-0dfe99529cc7"
      },
      "execution_count": 230,
      "outputs": [
        {
          "output_type": "stream",
          "name": "stdout",
          "text": [
            "[1, 2, 3, 4, 5, 6]\n"
          ]
        }
      ]
    }
  ]
}